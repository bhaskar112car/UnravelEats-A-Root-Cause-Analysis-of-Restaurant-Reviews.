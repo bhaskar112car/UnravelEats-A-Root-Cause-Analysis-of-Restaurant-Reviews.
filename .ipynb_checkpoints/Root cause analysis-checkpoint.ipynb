{
 "cells": [
  {
   "cell_type": "markdown",
   "id": "f299d98d",
   "metadata": {},
   "source": [
    "# NLP Project "
   ]
  },
  {
   "cell_type": "code",
   "execution_count": null,
   "id": "98030551",
   "metadata": {},
   "outputs": [],
   "source": [
    "# pip install langdetect -- upgrade"
   ]
  },
  {
   "cell_type": "code",
   "execution_count": null,
   "id": "2719dc59",
   "metadata": {},
   "outputs": [],
   "source": [
    "# pip install googletrans --upgrade"
   ]
  },
  {
   "cell_type": "code",
   "execution_count": null,
   "id": "7d165645",
   "metadata": {},
   "outputs": [],
   "source": [
    "# pip install translate "
   ]
  },
  {
   "cell_type": "code",
   "execution_count": null,
   "id": "f03088ed",
   "metadata": {},
   "outputs": [],
   "source": [
    "# !pip install translate"
   ]
  },
  {
   "cell_type": "code",
   "execution_count": null,
   "id": "92e8f73c",
   "metadata": {},
   "outputs": [],
   "source": [
    "# pip install py-translate"
   ]
  },
  {
   "cell_type": "code",
   "execution_count": 33,
   "id": "58040e31",
   "metadata": {},
   "outputs": [],
   "source": [
    "# !pip install httpx"
   ]
  },
  {
   "cell_type": "code",
   "execution_count": 35,
   "id": "8ed1f00e",
   "metadata": {},
   "outputs": [],
   "source": [
    "# !pip install textblob"
   ]
  },
  {
   "cell_type": "code",
   "execution_count": 55,
   "id": "6d302aa5",
   "metadata": {},
   "outputs": [],
   "source": [
    "# !pip install langid"
   ]
  },
  {
   "cell_type": "code",
   "execution_count": 39,
   "id": "740a1683",
   "metadata": {},
   "outputs": [],
   "source": [
    "import nltk as nltk\n",
    "import pandas as pd\n",
    "from langdetect import detect\n",
    "from googletrans import Translator\n",
    "from translate import translator,translate"
   ]
  },
  {
   "cell_type": "code",
   "execution_count": null,
   "id": "34f2f7d0",
   "metadata": {},
   "outputs": [],
   "source": []
  },
  {
   "cell_type": "code",
   "execution_count": null,
   "id": "4cb73a82",
   "metadata": {},
   "outputs": [],
   "source": [
    "# pip show googletrans\n"
   ]
  },
  {
   "cell_type": "code",
   "execution_count": 41,
   "id": "47264759",
   "metadata": {},
   "outputs": [],
   "source": [
    "# import dataset \n",
    "df=pd.read_csv(r'Restaurant_Reviews.tsv',sep='\\t')\n"
   ]
  },
  {
   "cell_type": "code",
   "execution_count": 42,
   "id": "a4f668ba",
   "metadata": {},
   "outputs": [
    {
     "data": {
      "text/html": [
       "<div>\n",
       "<style scoped>\n",
       "    .dataframe tbody tr th:only-of-type {\n",
       "        vertical-align: middle;\n",
       "    }\n",
       "\n",
       "    .dataframe tbody tr th {\n",
       "        vertical-align: top;\n",
       "    }\n",
       "\n",
       "    .dataframe thead th {\n",
       "        text-align: right;\n",
       "    }\n",
       "</style>\n",
       "<table border=\"1\" class=\"dataframe\">\n",
       "  <thead>\n",
       "    <tr style=\"text-align: right;\">\n",
       "      <th></th>\n",
       "      <th>Review</th>\n",
       "    </tr>\n",
       "  </thead>\n",
       "  <tbody>\n",
       "    <tr>\n",
       "      <th>0</th>\n",
       "      <td>Wow... Loved this place.</td>\n",
       "    </tr>\n",
       "    <tr>\n",
       "      <th>1</th>\n",
       "      <td>Crust is not good.</td>\n",
       "    </tr>\n",
       "    <tr>\n",
       "      <th>2</th>\n",
       "      <td>Not tasty and the texture was just nasty.</td>\n",
       "    </tr>\n",
       "    <tr>\n",
       "      <th>3</th>\n",
       "      <td>Stopped by during the late May bank holiday of...</td>\n",
       "    </tr>\n",
       "    <tr>\n",
       "      <th>4</th>\n",
       "      <td>The selection on the menu was great and so wer...</td>\n",
       "    </tr>\n",
       "    <tr>\n",
       "      <th>...</th>\n",
       "      <td>...</td>\n",
       "    </tr>\n",
       "    <tr>\n",
       "      <th>995</th>\n",
       "      <td>I think food should have flavor and texture an...</td>\n",
       "    </tr>\n",
       "    <tr>\n",
       "      <th>996</th>\n",
       "      <td>Appetite instantly gone.</td>\n",
       "    </tr>\n",
       "    <tr>\n",
       "      <th>997</th>\n",
       "      <td>Overall I was not impressed and would not go b...</td>\n",
       "    </tr>\n",
       "    <tr>\n",
       "      <th>998</th>\n",
       "      <td>The whole experience was underwhelming, and I ...</td>\n",
       "    </tr>\n",
       "    <tr>\n",
       "      <th>999</th>\n",
       "      <td>Then, as if I hadn't wasted enough of my life ...</td>\n",
       "    </tr>\n",
       "  </tbody>\n",
       "</table>\n",
       "<p>1000 rows × 1 columns</p>\n",
       "</div>"
      ],
      "text/plain": [
       "                                                Review\n",
       "0                             Wow... Loved this place.\n",
       "1                                   Crust is not good.\n",
       "2            Not tasty and the texture was just nasty.\n",
       "3    Stopped by during the late May bank holiday of...\n",
       "4    The selection on the menu was great and so wer...\n",
       "..                                                 ...\n",
       "995  I think food should have flavor and texture an...\n",
       "996                           Appetite instantly gone.\n",
       "997  Overall I was not impressed and would not go b...\n",
       "998  The whole experience was underwhelming, and I ...\n",
       "999  Then, as if I hadn't wasted enough of my life ...\n",
       "\n",
       "[1000 rows x 1 columns]"
      ]
     },
     "execution_count": 42,
     "metadata": {},
     "output_type": "execute_result"
    }
   ],
   "source": [
    "revdf=df[['Review']]\n",
    "revdf"
   ]
  },
  {
   "cell_type": "code",
   "execution_count": 43,
   "id": "705268f0",
   "metadata": {},
   "outputs": [],
   "source": [
    "# language detect and translation \n",
    "def lang_detect(data:'df column'):\n",
    "    lang=detect(data)\n",
    "    return lang\n"
   ]
  },
  {
   "cell_type": "code",
   "execution_count": 44,
   "id": "d46a01d3",
   "metadata": {},
   "outputs": [
    {
     "data": {
      "text/html": [
       "<div>\n",
       "<style scoped>\n",
       "    .dataframe tbody tr th:only-of-type {\n",
       "        vertical-align: middle;\n",
       "    }\n",
       "\n",
       "    .dataframe tbody tr th {\n",
       "        vertical-align: top;\n",
       "    }\n",
       "\n",
       "    .dataframe thead th {\n",
       "        text-align: right;\n",
       "    }\n",
       "</style>\n",
       "<table border=\"1\" class=\"dataframe\">\n",
       "  <thead>\n",
       "    <tr style=\"text-align: right;\">\n",
       "      <th></th>\n",
       "      <th>Review</th>\n",
       "      <th>language</th>\n",
       "    </tr>\n",
       "  </thead>\n",
       "  <tbody>\n",
       "    <tr>\n",
       "      <th>0</th>\n",
       "      <td>Wow... Loved this place.</td>\n",
       "      <td>en</td>\n",
       "    </tr>\n",
       "    <tr>\n",
       "      <th>1</th>\n",
       "      <td>Crust is not good.</td>\n",
       "      <td>en</td>\n",
       "    </tr>\n",
       "    <tr>\n",
       "      <th>2</th>\n",
       "      <td>Not tasty and the texture was just nasty.</td>\n",
       "      <td>en</td>\n",
       "    </tr>\n",
       "    <tr>\n",
       "      <th>3</th>\n",
       "      <td>Stopped by during the late May bank holiday of...</td>\n",
       "      <td>en</td>\n",
       "    </tr>\n",
       "    <tr>\n",
       "      <th>4</th>\n",
       "      <td>The selection on the menu was great and so wer...</td>\n",
       "      <td>en</td>\n",
       "    </tr>\n",
       "    <tr>\n",
       "      <th>...</th>\n",
       "      <td>...</td>\n",
       "      <td>...</td>\n",
       "    </tr>\n",
       "    <tr>\n",
       "      <th>995</th>\n",
       "      <td>I think food should have flavor and texture an...</td>\n",
       "      <td>en</td>\n",
       "    </tr>\n",
       "    <tr>\n",
       "      <th>996</th>\n",
       "      <td>Appetite instantly gone.</td>\n",
       "      <td>en</td>\n",
       "    </tr>\n",
       "    <tr>\n",
       "      <th>997</th>\n",
       "      <td>Overall I was not impressed and would not go b...</td>\n",
       "      <td>en</td>\n",
       "    </tr>\n",
       "    <tr>\n",
       "      <th>998</th>\n",
       "      <td>The whole experience was underwhelming, and I ...</td>\n",
       "      <td>en</td>\n",
       "    </tr>\n",
       "    <tr>\n",
       "      <th>999</th>\n",
       "      <td>Then, as if I hadn't wasted enough of my life ...</td>\n",
       "      <td>en</td>\n",
       "    </tr>\n",
       "  </tbody>\n",
       "</table>\n",
       "<p>1000 rows × 2 columns</p>\n",
       "</div>"
      ],
      "text/plain": [
       "                                                Review language\n",
       "0                             Wow... Loved this place.       en\n",
       "1                                   Crust is not good.       en\n",
       "2            Not tasty and the texture was just nasty.       en\n",
       "3    Stopped by during the late May bank holiday of...       en\n",
       "4    The selection on the menu was great and so wer...       en\n",
       "..                                                 ...      ...\n",
       "995  I think food should have flavor and texture an...       en\n",
       "996                           Appetite instantly gone.       en\n",
       "997  Overall I was not impressed and would not go b...       en\n",
       "998  The whole experience was underwhelming, and I ...       en\n",
       "999  Then, as if I hadn't wasted enough of my life ...       en\n",
       "\n",
       "[1000 rows x 2 columns]"
      ]
     },
     "execution_count": 44,
     "metadata": {},
     "output_type": "execute_result"
    }
   ],
   "source": [
    "revdf['language']=revdf.Review.apply(lang_detect)\n",
    "revdf"
   ]
  },
  {
   "cell_type": "code",
   "execution_count": 45,
   "id": "88d5f119",
   "metadata": {},
   "outputs": [
    {
     "data": {
      "text/plain": [
       "en    962\n",
       "af     11\n",
       "fr      5\n",
       "da      4\n",
       "nl      3\n",
       "de      2\n",
       "so      2\n",
       "no      2\n",
       "ca      2\n",
       "ro      2\n",
       "et      2\n",
       "it      1\n",
       "tl      1\n",
       "sq      1\n",
       "Name: language, dtype: int64"
      ]
     },
     "execution_count": 45,
     "metadata": {},
     "output_type": "execute_result"
    }
   ],
   "source": [
    "revdf.language.value_counts()"
   ]
  },
  {
   "cell_type": "code",
   "execution_count": 46,
   "id": "f7817a23",
   "metadata": {},
   "outputs": [],
   "source": [
    "# language detection and translation function\n",
    "def lang_trans(data:'data_colomn'):\n",
    "    translator=Translator()\n",
    "    translated=translator.translate(data)\n",
    "    return translated.text"
   ]
  },
  {
   "cell_type": "code",
   "execution_count": 18,
   "id": "097cb4b6",
   "metadata": {},
   "outputs": [
    {
     "data": {
      "text/html": [
       "<div>\n",
       "<style scoped>\n",
       "    .dataframe tbody tr th:only-of-type {\n",
       "        vertical-align: middle;\n",
       "    }\n",
       "\n",
       "    .dataframe tbody tr th {\n",
       "        vertical-align: top;\n",
       "    }\n",
       "\n",
       "    .dataframe thead th {\n",
       "        text-align: right;\n",
       "    }\n",
       "</style>\n",
       "<table border=\"1\" class=\"dataframe\">\n",
       "  <thead>\n",
       "    <tr style=\"text-align: right;\">\n",
       "      <th></th>\n",
       "      <th>trans_review</th>\n",
       "    </tr>\n",
       "  </thead>\n",
       "  <tbody>\n",
       "    <tr>\n",
       "      <th>0</th>\n",
       "      <td>Wow... Loved this place.</td>\n",
       "    </tr>\n",
       "    <tr>\n",
       "      <th>1</th>\n",
       "      <td>Crust is not good.</td>\n",
       "    </tr>\n",
       "    <tr>\n",
       "      <th>2</th>\n",
       "      <td>Not tasty and the texture was just nasty.</td>\n",
       "    </tr>\n",
       "    <tr>\n",
       "      <th>3</th>\n",
       "      <td>Stopped by during the late May bank holiday of...</td>\n",
       "    </tr>\n",
       "    <tr>\n",
       "      <th>4</th>\n",
       "      <td>The selection on the menu was great and so wer...</td>\n",
       "    </tr>\n",
       "    <tr>\n",
       "      <th>...</th>\n",
       "      <td>...</td>\n",
       "    </tr>\n",
       "    <tr>\n",
       "      <th>995</th>\n",
       "      <td>I think food should have flavor and texture an...</td>\n",
       "    </tr>\n",
       "    <tr>\n",
       "      <th>996</th>\n",
       "      <td>Appetite instantly gone.</td>\n",
       "    </tr>\n",
       "    <tr>\n",
       "      <th>997</th>\n",
       "      <td>Overall I was not impressed and would not go b...</td>\n",
       "    </tr>\n",
       "    <tr>\n",
       "      <th>998</th>\n",
       "      <td>The whole experience was underwhelming, and I ...</td>\n",
       "    </tr>\n",
       "    <tr>\n",
       "      <th>999</th>\n",
       "      <td>Then, as if I hadn't wasted enough of my life ...</td>\n",
       "    </tr>\n",
       "  </tbody>\n",
       "</table>\n",
       "<p>1000 rows × 1 columns</p>\n",
       "</div>"
      ],
      "text/plain": [
       "                                          trans_review\n",
       "0                             Wow... Loved this place.\n",
       "1                                   Crust is not good.\n",
       "2            Not tasty and the texture was just nasty.\n",
       "3    Stopped by during the late May bank holiday of...\n",
       "4    The selection on the menu was great and so wer...\n",
       "..                                                 ...\n",
       "995  I think food should have flavor and texture an...\n",
       "996                           Appetite instantly gone.\n",
       "997  Overall I was not impressed and would not go b...\n",
       "998  The whole experience was underwhelming, and I ...\n",
       "999  Then, as if I hadn't wasted enough of my life ...\n",
       "\n",
       "[1000 rows x 1 columns]"
      ]
     },
     "execution_count": 18,
     "metadata": {},
     "output_type": "execute_result"
    }
   ],
   "source": [
    "revdf['trans_review']=revdf.Review.apply(translate_to_english)\n",
    "revdf[['trans_review']]"
   ]
  },
  {
   "cell_type": "code",
   "execution_count": 19,
   "id": "71651d32",
   "metadata": {},
   "outputs": [
    {
     "data": {
      "text/html": [
       "<div>\n",
       "<style scoped>\n",
       "    .dataframe tbody tr th:only-of-type {\n",
       "        vertical-align: middle;\n",
       "    }\n",
       "\n",
       "    .dataframe tbody tr th {\n",
       "        vertical-align: top;\n",
       "    }\n",
       "\n",
       "    .dataframe thead th {\n",
       "        text-align: right;\n",
       "    }\n",
       "</style>\n",
       "<table border=\"1\" class=\"dataframe\">\n",
       "  <thead>\n",
       "    <tr style=\"text-align: right;\">\n",
       "      <th></th>\n",
       "      <th>Review</th>\n",
       "      <th>language</th>\n",
       "      <th>trans_review</th>\n",
       "    </tr>\n",
       "  </thead>\n",
       "  <tbody>\n",
       "    <tr>\n",
       "      <th>0</th>\n",
       "      <td>Wow... Loved this place.</td>\n",
       "      <td>en</td>\n",
       "      <td>Wow... Loved this place.</td>\n",
       "    </tr>\n",
       "    <tr>\n",
       "      <th>1</th>\n",
       "      <td>Crust is not good.</td>\n",
       "      <td>en</td>\n",
       "      <td>Crust is not good.</td>\n",
       "    </tr>\n",
       "    <tr>\n",
       "      <th>2</th>\n",
       "      <td>Not tasty and the texture was just nasty.</td>\n",
       "      <td>en</td>\n",
       "      <td>Not tasty and the texture was just nasty.</td>\n",
       "    </tr>\n",
       "    <tr>\n",
       "      <th>3</th>\n",
       "      <td>Stopped by during the late May bank holiday of...</td>\n",
       "      <td>en</td>\n",
       "      <td>Stopped by during the late May bank holiday of...</td>\n",
       "    </tr>\n",
       "    <tr>\n",
       "      <th>4</th>\n",
       "      <td>The selection on the menu was great and so wer...</td>\n",
       "      <td>en</td>\n",
       "      <td>The selection on the menu was great and so wer...</td>\n",
       "    </tr>\n",
       "    <tr>\n",
       "      <th>...</th>\n",
       "      <td>...</td>\n",
       "      <td>...</td>\n",
       "      <td>...</td>\n",
       "    </tr>\n",
       "    <tr>\n",
       "      <th>995</th>\n",
       "      <td>I think food should have flavor and texture an...</td>\n",
       "      <td>en</td>\n",
       "      <td>I think food should have flavor and texture an...</td>\n",
       "    </tr>\n",
       "    <tr>\n",
       "      <th>996</th>\n",
       "      <td>Appetite instantly gone.</td>\n",
       "      <td>en</td>\n",
       "      <td>Appetite instantly gone.</td>\n",
       "    </tr>\n",
       "    <tr>\n",
       "      <th>997</th>\n",
       "      <td>Overall I was not impressed and would not go b...</td>\n",
       "      <td>en</td>\n",
       "      <td>Overall I was not impressed and would not go b...</td>\n",
       "    </tr>\n",
       "    <tr>\n",
       "      <th>998</th>\n",
       "      <td>The whole experience was underwhelming, and I ...</td>\n",
       "      <td>en</td>\n",
       "      <td>The whole experience was underwhelming, and I ...</td>\n",
       "    </tr>\n",
       "    <tr>\n",
       "      <th>999</th>\n",
       "      <td>Then, as if I hadn't wasted enough of my life ...</td>\n",
       "      <td>en</td>\n",
       "      <td>Then, as if I hadn't wasted enough of my life ...</td>\n",
       "    </tr>\n",
       "  </tbody>\n",
       "</table>\n",
       "<p>1000 rows × 3 columns</p>\n",
       "</div>"
      ],
      "text/plain": [
       "                                                Review language  \\\n",
       "0                             Wow... Loved this place.       en   \n",
       "1                                   Crust is not good.       en   \n",
       "2            Not tasty and the texture was just nasty.       en   \n",
       "3    Stopped by during the late May bank holiday of...       en   \n",
       "4    The selection on the menu was great and so wer...       en   \n",
       "..                                                 ...      ...   \n",
       "995  I think food should have flavor and texture an...       en   \n",
       "996                           Appetite instantly gone.       en   \n",
       "997  Overall I was not impressed and would not go b...       en   \n",
       "998  The whole experience was underwhelming, and I ...       en   \n",
       "999  Then, as if I hadn't wasted enough of my life ...       en   \n",
       "\n",
       "                                          trans_review  \n",
       "0                             Wow... Loved this place.  \n",
       "1                                   Crust is not good.  \n",
       "2            Not tasty and the texture was just nasty.  \n",
       "3    Stopped by during the late May bank holiday of...  \n",
       "4    The selection on the menu was great and so wer...  \n",
       "..                                                 ...  \n",
       "995  I think food should have flavor and texture an...  \n",
       "996                           Appetite instantly gone.  \n",
       "997  Overall I was not impressed and would not go b...  \n",
       "998  The whole experience was underwhelming, and I ...  \n",
       "999  Then, as if I hadn't wasted enough of my life ...  \n",
       "\n",
       "[1000 rows x 3 columns]"
      ]
     },
     "execution_count": 19,
     "metadata": {},
     "output_type": "execute_result"
    }
   ],
   "source": [
    "revdf['language']=revdf.Review.apply(lang_detect)\n",
    "revdf"
   ]
  },
  {
   "cell_type": "code",
   "execution_count": 20,
   "id": "bcc7f9ad",
   "metadata": {},
   "outputs": [
    {
     "data": {
      "text/plain": [
       "en    961\n",
       "af     10\n",
       "fr      5\n",
       "nl      4\n",
       "it      3\n",
       "de      2\n",
       "tl      2\n",
       "so      2\n",
       "no      2\n",
       "ca      2\n",
       "da      2\n",
       "et      2\n",
       "ro      1\n",
       "es      1\n",
       "sq      1\n",
       "Name: language, dtype: int64"
      ]
     },
     "execution_count": 20,
     "metadata": {},
     "output_type": "execute_result"
    }
   ],
   "source": [
    "revdf.language.value_counts()"
   ]
  },
  {
   "cell_type": "code",
   "execution_count": null,
   "id": "0a38bf73",
   "metadata": {},
   "outputs": [],
   "source": [
    "# translate_text(revdf['Review'][26])"
   ]
  },
  {
   "cell_type": "code",
   "execution_count": null,
   "id": "e52bfcb6",
   "metadata": {},
   "outputs": [],
   "source": []
  }
 ],
 "metadata": {
  "kernelspec": {
   "display_name": "Python 3 (ipykernel)",
   "language": "python",
   "name": "python3"
  },
  "language_info": {
   "codemirror_mode": {
    "name": "ipython",
    "version": 3
   },
   "file_extension": ".py",
   "mimetype": "text/x-python",
   "name": "python",
   "nbconvert_exporter": "python",
   "pygments_lexer": "ipython3",
   "version": "3.9.13"
  }
 },
 "nbformat": 4,
 "nbformat_minor": 5
}
